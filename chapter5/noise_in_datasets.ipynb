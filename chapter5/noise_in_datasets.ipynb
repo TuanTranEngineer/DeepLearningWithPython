{
 "cells": [
  {
   "cell_type": "markdown",
   "metadata": {},
   "source": [
    "# Section 5.1: MNIST dataset with noise  \n",
    "We try to add noise to MNIST images and see how the noise affect the neural network performance"
   ]
  },
  {
   "cell_type": "code",
   "execution_count": 1,
   "metadata": {},
   "outputs": [],
   "source": [
    "from tensorflow.keras.datasets import mnist\n",
    "import numpy as np"
   ]
  },
  {
   "cell_type": "code",
   "execution_count": 6,
   "metadata": {},
   "outputs": [],
   "source": [
    "(train_images, train_labels), _ = mnist.load_data()\n",
    "train_images = train_images.reshape((60000, 28*28))\n",
    "train_images = train_images.astype('float32')/255\n",
    "\n",
    "train_images_random_noise = np.concatenate(\n",
    "    [train_images, np.random.random((len(train_images), 784))], \n",
    "    axis = 1\n",
    ")\n",
    "train_images_zeros_noise = np.concatenate(\n",
    "    [train_images, np.zeros((len(train_images), 784))],\n",
    "    axis = 1\n",
    ")"
   ]
  },
  {
   "cell_type": "code",
   "execution_count": 7,
   "metadata": {},
   "outputs": [
    {
     "name": "stdout",
     "output_type": "stream",
     "text": [
      "Train on 48000 samples, validate on 12000 samples\n",
      "Epoch 1/10\n",
      "48000/48000 [==============================] - 18s 371us/sample - loss: 0.6370 - accuracy: 0.8090 - val_loss: 0.2857 - val_accuracy: 0.9121\n",
      "Epoch 2/10\n",
      "48000/48000 [==============================] - 15s 312us/sample - loss: 0.2439 - accuracy: 0.9251 - val_loss: 0.2023 - val_accuracy: 0.9390\n",
      "Epoch 3/10\n",
      "48000/48000 [==============================] - 15s 314us/sample - loss: 0.1608 - accuracy: 0.9503 - val_loss: 0.1915 - val_accuracy: 0.9416\n",
      "Epoch 4/10\n",
      "48000/48000 [==============================] - 15s 311us/sample - loss: 0.1119 - accuracy: 0.9656 - val_loss: 0.1599 - val_accuracy: 0.9525\n",
      "Epoch 5/10\n",
      "48000/48000 [==============================] - 15s 308us/sample - loss: 0.0823 - accuracy: 0.9733 - val_loss: 0.1608 - val_accuracy: 0.9541\n",
      "Epoch 6/10\n",
      "48000/48000 [==============================] - 15s 309us/sample - loss: 0.0598 - accuracy: 0.9807 - val_loss: 0.1564 - val_accuracy: 0.9567\n",
      "Epoch 7/10\n",
      "48000/48000 [==============================] - 15s 306us/sample - loss: 0.0455 - accuracy: 0.9855 - val_loss: 0.1360 - val_accuracy: 0.9633\n",
      "Epoch 8/10\n",
      "48000/48000 [==============================] - 15s 312us/sample - loss: 0.0361 - accuracy: 0.9889 - val_loss: 0.1392 - val_accuracy: 0.9640\n",
      "Epoch 9/10\n",
      "48000/48000 [==============================] - 15s 311us/sample - loss: 0.0266 - accuracy: 0.9910 - val_loss: 0.1307 - val_accuracy: 0.9683\n",
      "Epoch 10/10\n",
      "48000/48000 [==============================] - 15s 308us/sample - loss: 0.0210 - accuracy: 0.9934 - val_loss: 0.1438 - val_accuracy: 0.9652\n",
      "Train on 48000 samples, validate on 12000 samples\n",
      "Epoch 1/10\n",
      "48000/48000 [==============================] - 16s 326us/sample - loss: 0.2849 - accuracy: 0.9186 - val_loss: 0.1446 - val_accuracy: 0.9585\n",
      "Epoch 2/10\n",
      "48000/48000 [==============================] - 15s 311us/sample - loss: 0.1192 - accuracy: 0.9651 - val_loss: 0.0966 - val_accuracy: 0.9732\n",
      "Epoch 3/10\n",
      "48000/48000 [==============================] - 19s 394us/sample - loss: 0.0777 - accuracy: 0.9777 - val_loss: 0.0925 - val_accuracy: 0.9728\n",
      "Epoch 4/10\n",
      "48000/48000 [==============================] - 15s 315us/sample - loss: 0.0566 - accuracy: 0.9834 - val_loss: 0.0838 - val_accuracy: 0.9762\n",
      "Epoch 5/10\n",
      "48000/48000 [==============================] - 15s 310us/sample - loss: 0.0421 - accuracy: 0.9880 - val_loss: 0.0815 - val_accuracy: 0.9762\n",
      "Epoch 6/10\n",
      "48000/48000 [==============================] - 15s 311us/sample - loss: 0.0314 - accuracy: 0.9907 - val_loss: 0.0759 - val_accuracy: 0.9778\n",
      "Epoch 7/10\n",
      "48000/48000 [==============================] - 15s 310us/sample - loss: 0.0245 - accuracy: 0.9932 - val_loss: 0.0842 - val_accuracy: 0.9776\n",
      "Epoch 8/10\n",
      "48000/48000 [==============================] - 15s 314us/sample - loss: 0.0185 - accuracy: 0.9944 - val_loss: 0.0853 - val_accuracy: 0.9783\n",
      "Epoch 9/10\n",
      "48000/48000 [==============================] - 15s 310us/sample - loss: 0.0141 - accuracy: 0.9958 - val_loss: 0.0812 - val_accuracy: 0.9793\n",
      "Epoch 10/10\n",
      "48000/48000 [==============================] - 15s 310us/sample - loss: 0.0107 - accuracy: 0.9971 - val_loss: 0.0803 - val_accuracy: 0.9791\n"
     ]
    }
   ],
   "source": [
    "from tensorflow import keras\n",
    "from tensorflow.keras import layers\n",
    "\n",
    "def get_model():\n",
    "    model = keras.Sequential([\n",
    "        layers.Dense(512, activation = 'relu'),\n",
    "        layers.Dense(10, activation = 'softmax')\n",
    "    ])\n",
    "    model.compile(optimizer = 'rmsprop',\n",
    "                 loss = 'sparse_categorical_crossentropy',\n",
    "                 metrics = ['accuracy'])\n",
    "    return model\n",
    "\n",
    "model = get_model()\n",
    "random_noise_history = model.fit(train_images_random_noise, \n",
    "                                 train_labels,\n",
    "                                 batch_size = 128,\n",
    "                                 epochs = 10,\n",
    "                                 validation_split = 0.2\n",
    "                                )\n",
    "model = get_model()\n",
    "zeros_noise_history = model.fit(train_images_zeros_noise,\n",
    "                                 train_labels,\n",
    "                                 batch_size = 128,\n",
    "                                 epochs = 10,\n",
    "                                 validation_split = 0.2\n",
    "                               )"
   ]
  },
  {
   "cell_type": "code",
   "execution_count": 13,
   "metadata": {},
   "outputs": [
    {
     "data": {
      "text/plain": [
       "<matplotlib.legend.Legend at 0x6459338d0>"
      ]
     },
     "execution_count": 13,
     "metadata": {},
     "output_type": "execute_result"
    },
    {
     "data": {
      "image/png": "[encoded data removed]",
      "text/plain": [
       "<Figure size 432x288 with 1 Axes>"
      ]
     },
     "metadata": {
      "needs_background": "light"
     },
     "output_type": "display_data"
    }
   ],
   "source": [
    "import matplotlib.pyplot as plt\n",
    "\n",
    "acc_noise = random_noise_history.history['val_accuracy']\n",
    "acc_zeros = zeros_noise_history.history['val_accuracy']\n",
    "epochs = range(1, len(acc_noise) + 1)\n",
    "plt.plot(epochs, acc_noise, 'b-', label = \"noise accuracy\")\n",
    "plt.plot(epochs, acc_zeros, 'b--', label = \"zeros accuracy\")\n",
    "plt.xlabel(\"epochs\")\n",
    "plt.ylabel(\"accuracy\")\n",
    "plt.title(\"Training accuracy\")\n",
    "plt.legend()"
   ]
  },
  {
   "cell_type": "markdown",
   "metadata": {},
   "source": [
    "### Try shuffling the training labels and train the model again  \n",
    "---> Training process works, the loss reduces but validation score don't"
   ]
  },
  {
   "cell_type": "code",
   "execution_count": 14,
   "metadata": {},
   "outputs": [
    {
     "name": "stdout",
     "output_type": "stream",
     "text": [
      "Train on 48000 samples, validate on 12000 samples\n",
      "Epoch 1/10\n",
      "48000/48000 [==============================] - 10s 198us/sample - loss: 2.3164 - accuracy: 0.1041 - val_loss: 2.3076 - val_accuracy: 0.1058\n",
      "Epoch 2/10\n",
      "48000/48000 [==============================] - 9s 182us/sample - loss: 2.2998 - accuracy: 0.1163 - val_loss: 2.3111 - val_accuracy: 0.1047\n",
      "Epoch 3/10\n",
      "48000/48000 [==============================] - 9s 184us/sample - loss: 2.2895 - accuracy: 0.1275 - val_loss: 2.3228 - val_accuracy: 0.1067\n",
      "Epoch 4/10\n",
      "48000/48000 [==============================] - 9s 182us/sample - loss: 2.2764 - accuracy: 0.1419 - val_loss: 2.3317 - val_accuracy: 0.0987\n",
      "Epoch 5/10\n",
      "48000/48000 [==============================] - 9s 187us/sample - loss: 2.2586 - accuracy: 0.1557 - val_loss: 2.3409 - val_accuracy: 0.1039\n",
      "Epoch 6/10\n",
      "48000/48000 [==============================] - 9s 189us/sample - loss: 2.2361 - accuracy: 0.1715 - val_loss: 2.3563 - val_accuracy: 0.0967\n",
      "Epoch 7/10\n",
      "48000/48000 [==============================] - 9s 187us/sample - loss: 2.2130 - accuracy: 0.1823 - val_loss: 2.3657 - val_accuracy: 0.1055\n",
      "Epoch 8/10\n",
      "48000/48000 [==============================] - 9s 190us/sample - loss: 2.1846 - accuracy: 0.2004 - val_loss: 2.3879 - val_accuracy: 0.0988\n",
      "Epoch 9/10\n",
      "48000/48000 [==============================] - 9s 187us/sample - loss: 2.1553 - accuracy: 0.2165 - val_loss: 2.4045 - val_accuracy: 0.1010\n",
      "Epoch 10/10\n",
      "48000/48000 [==============================] - 9s 188us/sample - loss: 2.1234 - accuracy: 0.2330 - val_loss: 2.4346 - val_accuracy: 0.0991\n"
     ]
    },
    {
     "data": {
      "text/plain": [
       "<tensorflow.python.keras.callbacks.History at 0x645bc52d0>"
      ]
     },
     "execution_count": 14,
     "metadata": {},
     "output_type": "execute_result"
    }
   ],
   "source": [
    "train_labels_random = train_labels[:]\n",
    "np.random.shuffle(train_labels_random)\n",
    "\n",
    "model = get_model()\n",
    "model.fit(train_images, \n",
    "          train_labels_random,\n",
    "          epochs = 10,\n",
    "          batch_size = 128,\n",
    "          validation_split = 0.2\n",
    "         )"
   ]
  }
 ],
 "metadata": {
  "kernelspec": {
   "display_name": "Python 3",
   "language": "python",
   "name": "python3"
  },
  "language_info": {
   "codemirror_mode": {
    "name": "ipython",
    "version": 3
   },
   "file_extension": ".py",
   "mimetype": "text/x-python",
   "name": "python",
   "nbconvert_exporter": "python",
   "pygments_lexer": "ipython3",
   "version": "3.7.5"
  }
 },
 "nbformat": 4,
 "nbformat_minor": 4
}
