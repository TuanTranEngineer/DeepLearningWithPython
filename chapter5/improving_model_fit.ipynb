{
 "cells": [
  {
   "cell_type": "markdown",
   "metadata": {},
   "source": [
    "# Section 5.3: Improving model fit"
   ]
  },
  {
   "cell_type": "code",
   "execution_count": 3,
   "metadata": {},
   "outputs": [],
   "source": [
    "from tensorflow.keras.datasets import mnist\n",
    "from tensorflow import keras\n",
    "from tensorflow.keras import layers\n",
    "import numpy as np"
   ]
  },
  {
   "cell_type": "code",
   "execution_count": 5,
   "metadata": {},
   "outputs": [
    {
     "name": "stdout",
     "output_type": "stream",
     "text": [
      "Train on 48000 samples, validate on 12000 samples\n",
      "Epoch 1/10\n",
      "48000/48000 [==============================] - 9s 196us/sample - loss: 771.6249 - accuracy: 0.4936 - val_loss: 2.0173 - val_accuracy: 0.2594\n",
      "Epoch 2/10\n",
      "48000/48000 [==============================] - 9s 183us/sample - loss: 6.5062 - accuracy: 0.2846 - val_loss: 2.5842 - val_accuracy: 0.3086\n",
      "Epoch 3/10\n",
      "48000/48000 [==============================] - 8s 175us/sample - loss: 3.0474 - accuracy: 0.2820 - val_loss: 2.3071 - val_accuracy: 0.2665\n",
      "Epoch 4/10\n",
      "48000/48000 [==============================] - 8s 176us/sample - loss: 2.6504 - accuracy: 0.3013 - val_loss: 2.4102 - val_accuracy: 0.2514\n",
      "Epoch 5/10\n",
      "48000/48000 [==============================] - 8s 175us/sample - loss: 3.1580 - accuracy: 0.2584 - val_loss: 2.3667 - val_accuracy: 0.3142\n",
      "Epoch 6/10\n",
      "48000/48000 [==============================] - 9s 177us/sample - loss: 2.6086 - accuracy: 0.2774 - val_loss: 2.2618 - val_accuracy: 0.2342\n",
      "Epoch 7/10\n",
      "48000/48000 [==============================] - 9s 179us/sample - loss: 2.5697 - accuracy: 0.2724 - val_loss: 2.6080 - val_accuracy: 0.2947\n",
      "Epoch 8/10\n",
      "48000/48000 [==============================] - 8s 176us/sample - loss: 2.5618 - accuracy: 0.2803 - val_loss: 2.2819 - val_accuracy: 0.2483\n",
      "Epoch 9/10\n",
      "48000/48000 [==============================] - 8s 176us/sample - loss: 2.5017 - accuracy: 0.2784 - val_loss: 2.9565 - val_accuracy: 0.3070\n",
      "Epoch 10/10\n",
      "48000/48000 [==============================] - 9s 198us/sample - loss: 2.4918 - accuracy: 0.2798 - val_loss: 2.8877 - val_accuracy: 0.2842\n"
     ]
    },
    {
     "data": {
      "text/plain": [
       "<tensorflow.python.keras.callbacks.History at 0x104884c10>"
      ]
     },
     "execution_count": 5,
     "metadata": {},
     "output_type": "execute_result"
    }
   ],
   "source": [
    "(train_images, train_labels), _ = mnist.load_data()\n",
    "train_images = train_images.reshape((60000, 28*28))\n",
    "train_images = train_images.astype('float32')/255\n",
    "\n",
    "model = keras.Sequential([\n",
    "    layers.Dense(512, activation = 'relu'),\n",
    "    layers.Dense(10, activation = 'softmax')\n",
    "])\n",
    "model.compile(optimizer = keras.optimizers.RMSprop(1.0),\n",
    "             loss = 'sparse_categorical_crossentropy',\n",
    "             metrics = ['accuracy'])\n",
    "model.fit(train_images, \n",
    "         train_labels,\n",
    "         batch_size = 128,\n",
    "         epochs = 10,\n",
    "         validation_split = 0.2\n",
    "        )"
   ]
  },
  {
   "cell_type": "markdown",
   "metadata": {},
   "source": [
    "Fitting the model with a big learning rate makes it hard to converge, the validation loss cannot be lower than 0.25 -> try fitting model with a lower learning rate (0.01)"
   ]
  },
  {
   "cell_type": "code",
   "execution_count": 6,
   "metadata": {},
   "outputs": [
    {
     "name": "stdout",
     "output_type": "stream",
     "text": [
      "Train on 48000 samples, validate on 12000 samples\n",
      "Epoch 1/10\n",
      "48000/48000 [==============================] - 9s 191us/sample - loss: 0.3847 - accuracy: 0.9110 - val_loss: 0.1840 - val_accuracy: 0.9494\n",
      "Epoch 2/10\n",
      "48000/48000 [==============================] - 8s 176us/sample - loss: 0.1489 - accuracy: 0.9625 - val_loss: 0.1826 - val_accuracy: 0.9578\n",
      "Epoch 3/10\n",
      "48000/48000 [==============================] - 9s 181us/sample - loss: 0.1208 - accuracy: 0.9720 - val_loss: 0.1779 - val_accuracy: 0.9686\n",
      "Epoch 4/10\n",
      "48000/48000 [==============================] - 8s 177us/sample - loss: 0.1036 - accuracy: 0.9778 - val_loss: 0.1782 - val_accuracy: 0.9693\n",
      "Epoch 5/10\n",
      "48000/48000 [==============================] - 8s 176us/sample - loss: 0.0901 - accuracy: 0.9814 - val_loss: 0.1850 - val_accuracy: 0.9745\n",
      "Epoch 6/10\n",
      "48000/48000 [==============================] - 8s 176us/sample - loss: 0.0749 - accuracy: 0.9845 - val_loss: 0.2282 - val_accuracy: 0.9713\n",
      "Epoch 7/10\n",
      "48000/48000 [==============================] - 9s 178us/sample - loss: 0.0728 - accuracy: 0.9866 - val_loss: 0.2404 - val_accuracy: 0.9737\n",
      "Epoch 8/10\n",
      "48000/48000 [==============================] - 8s 177us/sample - loss: 0.0652 - accuracy: 0.9881 - val_loss: 0.3520 - val_accuracy: 0.9685\n",
      "Epoch 9/10\n",
      "48000/48000 [==============================] - 9s 178us/sample - loss: 0.0708 - accuracy: 0.9885 - val_loss: 0.2906 - val_accuracy: 0.9747\n",
      "Epoch 10/10\n",
      "48000/48000 [==============================] - 9s 194us/sample - loss: 0.0579 - accuracy: 0.9900 - val_loss: 0.3774 - val_accuracy: 0.9669\n"
     ]
    },
    {
     "data": {
      "text/plain": [
       "<tensorflow.python.keras.callbacks.History at 0x6379c83d0>"
      ]
     },
     "execution_count": 6,
     "metadata": {},
     "output_type": "execute_result"
    }
   ],
   "source": [
    "model = keras.Sequential([\n",
    "    layers.Dense(512, activation = 'relu'),\n",
    "    layers.Dense(10, activation = 'softmax')\n",
    "])\n",
    "model.compile(optimizer = keras.optimizers.RMSprop(0.01),\n",
    "             loss = 'sparse_categorical_crossentropy',\n",
    "             metrics = ['accuracy'])\n",
    "model.fit(train_images, \n",
    "         train_labels,\n",
    "         batch_size = 128,\n",
    "         epochs = 10,\n",
    "         validation_split = 0.2\n",
    "        )"
   ]
  },
  {
   "cell_type": "markdown",
   "metadata": {},
   "source": [
    "The model now is able to train!"
   ]
  },
  {
   "cell_type": "code",
   "execution_count": 16,
   "metadata": {},
   "outputs": [
    {
     "name": "stdout",
     "output_type": "stream",
     "text": [
      "Train on 48000 samples, validate on 12000 samples\n",
      "Epoch 1/20\n",
      "48000/48000 [==============================] - 3s 52us/sample - loss: 0.6882 - accuracy: 0.8296 - val_loss: 0.3619 - val_accuracy: 0.9026\n",
      "Epoch 2/20\n",
      "48000/48000 [==============================] - 2s 42us/sample - loss: 0.3526 - accuracy: 0.9034 - val_loss: 0.3105 - val_accuracy: 0.9134\n",
      "Epoch 3/20\n",
      "48000/48000 [==============================] - 2s 41us/sample - loss: 0.3159 - accuracy: 0.9121 - val_loss: 0.2923 - val_accuracy: 0.9169\n",
      "Epoch 4/20\n",
      "48000/48000 [==============================] - 2s 41us/sample - loss: 0.2993 - accuracy: 0.9161 - val_loss: 0.2830 - val_accuracy: 0.9227\n",
      "Epoch 5/20\n",
      "48000/48000 [==============================] - 2s 44us/sample - loss: 0.2897 - accuracy: 0.9189 - val_loss: 0.2754 - val_accuracy: 0.9236\n",
      "Epoch 6/20\n",
      "48000/48000 [==============================] - 2s 43us/sample - loss: 0.2830 - accuracy: 0.9205 - val_loss: 0.2733 - val_accuracy: 0.9252\n",
      "Epoch 7/20\n",
      "48000/48000 [==============================] - 2s 49us/sample - loss: 0.2781 - accuracy: 0.9224 - val_loss: 0.2709 - val_accuracy: 0.9258\n",
      "Epoch 8/20\n",
      "48000/48000 [==============================] - 2s 47us/sample - loss: 0.2748 - accuracy: 0.9233 - val_loss: 0.2669 - val_accuracy: 0.9274\n",
      "Epoch 9/20\n",
      "48000/48000 [==============================] - 2s 41us/sample - loss: 0.2715 - accuracy: 0.9249 - val_loss: 0.2645 - val_accuracy: 0.9289\n",
      "Epoch 10/20\n",
      "48000/48000 [==============================] - 2s 41us/sample - loss: 0.2686 - accuracy: 0.9257 - val_loss: 0.2633 - val_accuracy: 0.9285\n",
      "Epoch 11/20\n",
      "48000/48000 [==============================] - 2s 41us/sample - loss: 0.2664 - accuracy: 0.9264 - val_loss: 0.2648 - val_accuracy: 0.9284\n",
      "Epoch 12/20\n",
      "48000/48000 [==============================] - 2s 43us/sample - loss: 0.2648 - accuracy: 0.9273 - val_loss: 0.2621 - val_accuracy: 0.9296\n",
      "Epoch 13/20\n",
      "48000/48000 [==============================] - 2s 41us/sample - loss: 0.2630 - accuracy: 0.9271 - val_loss: 0.2623 - val_accuracy: 0.9288\n",
      "Epoch 14/20\n",
      "48000/48000 [==============================] - 2s 40us/sample - loss: 0.2617 - accuracy: 0.9276 - val_loss: 0.2618 - val_accuracy: 0.9293\n",
      "Epoch 15/20\n",
      "48000/48000 [==============================] - 2s 41us/sample - loss: 0.2602 - accuracy: 0.9282 - val_loss: 0.2609 - val_accuracy: 0.9312\n",
      "Epoch 16/20\n",
      "48000/48000 [==============================] - 2s 42us/sample - loss: 0.2594 - accuracy: 0.9288 - val_loss: 0.2617 - val_accuracy: 0.9309\n",
      "Epoch 17/20\n",
      "48000/48000 [==============================] - 2s 43us/sample - loss: 0.2579 - accuracy: 0.9294 - val_loss: 0.2626 - val_accuracy: 0.9304\n",
      "Epoch 18/20\n",
      "48000/48000 [==============================] - 2s 47us/sample - loss: 0.2570 - accuracy: 0.9299 - val_loss: 0.2609 - val_accuracy: 0.9301\n",
      "Epoch 19/20\n",
      "48000/48000 [==============================] - 2s 42us/sample - loss: 0.2566 - accuracy: 0.9293 - val_loss: 0.2606 - val_accuracy: 0.9312\n",
      "Epoch 20/20\n",
      "48000/48000 [==============================] - 2s 41us/sample - loss: 0.2555 - accuracy: 0.9305 - val_loss: 0.2610 - val_accuracy: 0.9303\n"
     ]
    }
   ],
   "source": [
    "model = keras.Sequential([layers.Dense(10, activation = 'softmax')])\n",
    "model.compile(optimizer = 'rmsprop', loss = 'sparse_categorical_crossentropy', metrics = ['accuracy'])\n",
    "history = model.fit(train_images, \n",
    "                     train_labels,\n",
    "                     batch_size = 128,\n",
    "                     epochs = 20,\n",
    "                     validation_split = 0.2\n",
    "                    )"
   ]
  },
  {
   "cell_type": "code",
   "execution_count": 17,
   "metadata": {},
   "outputs": [
    {
     "data": {
      "image/png": "[encoded data removed]",
      "text/plain": [
       "<Figure size 432x288 with 1 Axes>"
      ]
     },
     "metadata": {
      "needs_background": "light"
     },
     "output_type": "display_data"
    }
   ],
   "source": [
    "import matplotlib.pyplot as plt\n",
    "validation_loss = history.history['val_loss']\n",
    "epochs = range(1, len(validation_loss) + 1)\n",
    "plt.plot(epochs, validation_loss, 'b--', label = 'validation loss')\n",
    "plt.xlabel(\"epochs\")\n",
    "plt.ylabel(\"loss\")\n",
    "plt.title(\"Training validation loss\")\n",
    "plt.legend()\n",
    "plt.show()"
   ]
  },
  {
   "cell_type": "markdown",
   "metadata": {},
   "source": [
    "The model can be fitted but cannot be overfitted even after many iteration over training data  \n",
    "If the model cannot be overfitted, it states that there was a problem with its representation power -> we need a bigger model!  \n",
    "We can fix it:  \n",
    "    - Use bigger layers  \n",
    "    - Add more layers  \n",
    "    - Using an appropriate layer for the problem at hand"
   ]
  },
  {
   "cell_type": "code",
   "execution_count": 18,
   "metadata": {},
   "outputs": [
    {
     "name": "stdout",
     "output_type": "stream",
     "text": [
      "Train on 48000 samples, validate on 12000 samples\n",
      "Epoch 1/20\n",
      "48000/48000 [==============================] - 5s 107us/sample - loss: 0.3597 - accuracy: 0.8995 - val_loss: 0.1756 - val_accuracy: 0.9494\n",
      "Epoch 2/20\n",
      "48000/48000 [==============================] - 4s 89us/sample - loss: 0.1566 - accuracy: 0.9535 - val_loss: 0.1469 - val_accuracy: 0.9548\n",
      "Epoch 3/20\n",
      "48000/48000 [==============================] - 4s 84us/sample - loss: 0.1109 - accuracy: 0.9669 - val_loss: 0.1279 - val_accuracy: 0.9613\n",
      "Epoch 4/20\n",
      "48000/48000 [==============================] - 5s 113us/sample - loss: 0.0852 - accuracy: 0.9746 - val_loss: 0.1028 - val_accuracy: 0.9700\n",
      "Epoch 5/20\n",
      "48000/48000 [==============================] - 4s 90us/sample - loss: 0.0683 - accuracy: 0.9792 - val_loss: 0.1020 - val_accuracy: 0.9709\n",
      "Epoch 6/20\n",
      "48000/48000 [==============================] - 4s 85us/sample - loss: 0.0566 - accuracy: 0.9827 - val_loss: 0.0954 - val_accuracy: 0.9733\n",
      "Epoch 7/20\n",
      "48000/48000 [==============================] - 4s 86us/sample - loss: 0.0457 - accuracy: 0.9863 - val_loss: 0.0986 - val_accuracy: 0.9727\n",
      "Epoch 8/20\n",
      "48000/48000 [==============================] - 4s 83us/sample - loss: 0.0390 - accuracy: 0.9888 - val_loss: 0.1036 - val_accuracy: 0.9716\n",
      "Epoch 9/20\n",
      "48000/48000 [==============================] - 4s 84us/sample - loss: 0.0331 - accuracy: 0.9897 - val_loss: 0.1101 - val_accuracy: 0.9705\n",
      "Epoch 10/20\n",
      "48000/48000 [==============================] - 4s 86us/sample - loss: 0.0283 - accuracy: 0.9914 - val_loss: 0.1062 - val_accuracy: 0.9727\n",
      "Epoch 11/20\n",
      "48000/48000 [==============================] - 4s 84us/sample - loss: 0.0236 - accuracy: 0.9929 - val_loss: 0.0987 - val_accuracy: 0.9771\n",
      "Epoch 12/20\n",
      "48000/48000 [==============================] - 4s 86us/sample - loss: 0.0191 - accuracy: 0.9948 - val_loss: 0.1122 - val_accuracy: 0.9749\n",
      "Epoch 13/20\n",
      "48000/48000 [==============================] - 4s 83us/sample - loss: 0.0174 - accuracy: 0.9948 - val_loss: 0.1084 - val_accuracy: 0.9767\n",
      "Epoch 14/20\n",
      "48000/48000 [==============================] - 4s 84us/sample - loss: 0.0138 - accuracy: 0.9955 - val_loss: 0.1215 - val_accuracy: 0.9743\n",
      "Epoch 15/20\n",
      "48000/48000 [==============================] - 4s 84us/sample - loss: 0.0119 - accuracy: 0.9963 - val_loss: 0.1203 - val_accuracy: 0.9753\n",
      "Epoch 16/20\n",
      "48000/48000 [==============================] - 4s 91us/sample - loss: 0.0109 - accuracy: 0.9966 - val_loss: 0.1211 - val_accuracy: 0.9761\n",
      "Epoch 17/20\n",
      "48000/48000 [==============================] - 4s 84us/sample - loss: 0.0090 - accuracy: 0.9972 - val_loss: 0.1307 - val_accuracy: 0.9751\n",
      "Epoch 18/20\n",
      "48000/48000 [==============================] - 4s 85us/sample - loss: 0.0087 - accuracy: 0.9973 - val_loss: 0.1378 - val_accuracy: 0.9771\n",
      "Epoch 19/20\n",
      "48000/48000 [==============================] - 4s 89us/sample - loss: 0.0067 - accuracy: 0.9980 - val_loss: 0.1438 - val_accuracy: 0.9762\n",
      "Epoch 20/20\n",
      "48000/48000 [==============================] - 4s 85us/sample - loss: 0.0059 - accuracy: 0.9980 - val_loss: 0.1409 - val_accuracy: 0.9760\n"
     ]
    },
    {
     "data": {
      "image/png": "[encoded data removed]",
      "text/plain": [
       "<Figure size 432x288 with 1 Axes>"
      ]
     },
     "metadata": {
      "needs_background": "light"
     },
     "output_type": "display_data"
    }
   ],
   "source": [
    "# Try increasing the depth of the model and use bigger layers\n",
    "model = keras.Sequential([\n",
    "    layers.Dense(96, activation = 'relu'),\n",
    "    layers.Dense(96, activation = 'relu'),\n",
    "    layers.Dense(10, activation = 'softmax')\n",
    "])\n",
    "model.compile(optimizer = 'rmsprop', loss = 'sparse_categorical_crossentropy', metrics = ['accuracy'])\n",
    "history = model.fit(train_images, \n",
    "                     train_labels,\n",
    "                     batch_size = 128,\n",
    "                     epochs = 20,\n",
    "                     validation_split = 0.2\n",
    "                    )\n",
    "\n",
    "validation_loss = history.history['val_loss']\n",
    "epochs = range(1, len(validation_loss) + 1)\n",
    "plt.plot(epochs, validation_loss, 'b--', label = 'validation loss')\n",
    "plt.xlabel(\"epochs\")\n",
    "plt.ylabel(\"loss\")\n",
    "plt.title(\"Training validation loss\")\n",
    "plt.legend()\n",
    "plt.show()"
   ]
  }
 ],
 "metadata": {
  "kernelspec": {
   "display_name": "Python 3",
   "language": "python",
   "name": "python3"
  },
  "language_info": {
   "codemirror_mode": {
    "name": "ipython",
    "version": 3
   },
   "file_extension": ".py",
   "mimetype": "text/x-python",
   "name": "python",
   "nbconvert_exporter": "python",
   "pygments_lexer": "ipython3",
   "version": "3.7.5"
  }
 },
 "nbformat": 4,
 "nbformat_minor": 4
}
