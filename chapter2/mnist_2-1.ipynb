{
 "cells": [
  {
   "cell_type": "markdown",
   "metadata": {},
   "source": [
    "# First MNIST Dataset practice, section 2.1"
   ]
  },
  {
   "cell_type": "code",
   "execution_count": 2,
   "metadata": {},
   "outputs": [],
   "source": [
    "import numpy as np\n",
    "from keras.datasets import mnist\n",
    "(train_images, train_labels), (test_images, test_labels) = mnist.load_data()"
   ]
  },
  {
   "cell_type": "code",
   "execution_count": 3,
   "metadata": {},
   "outputs": [
    {
     "name": "stdout",
     "output_type": "stream",
     "text": [
      "shape of train_images: (60000, 28, 28)\n",
      "length of train_labels: 60000\n",
      "shape of test_images: (10000, 28, 28)\n",
      "length of test_labels: 10000\n",
      "10 first train labels: [5 0 4 1 9 2 1 3 1 4]\n",
      "10 first test labels: [7 2 1 0 4 1 4 9 5 9]\n"
     ]
    }
   ],
   "source": [
    "print(\"shape of train_images: {}\".format(train_images.shape))\n",
    "print(\"length of train_labels: {}\".format(len(train_labels)))\n",
    "print(\"shape of test_images: {}\".format(test_images.shape))\n",
    "print(\"length of test_labels: {}\".format(len(test_labels)))\n",
    "print(\"10 first train labels: {}\".format(train_labels[0:10]))\n",
    "print(\"10 first test labels: {}\".format(test_labels[0:10]))"
   ]
  },
  {
   "cell_type": "markdown",
   "metadata": {},
   "source": [
    "Make a model with 2 fully connected layers:  \n",
    "    - The first layer has 512 neurals and relu activation function  \n",
    "    - The second layers has 10 neurals, ending with softmax activation would create a probability distribution at the output"
   ]
  },
  {
   "cell_type": "code",
   "execution_count": 5,
   "metadata": {},
   "outputs": [],
   "source": [
    "from tensorflow.keras import models\n",
    "from tensorflow.keras import layers\n",
    "\n",
    "model = models.Sequential([\n",
    "    layers.Dense(512, activation = 'relu'),\n",
    "    layers.Dense(10, activation = 'softmax')\n",
    "])"
   ]
  },
  {
   "cell_type": "markdown",
   "metadata": {},
   "source": [
    "Compile the model with:  \n",
    "    - RMS Prop optimizer  \n",
    "    - Cross entropy loss function  \n",
    "    - The metric of accuracy for monitoring during the training process"
   ]
  },
  {
   "cell_type": "code",
   "execution_count": 6,
   "metadata": {},
   "outputs": [],
   "source": [
    "model.compile(optimizer = 'rmsprop',\n",
    "             loss='sparse_categorical_crossentropy',\n",
    "             metrics=['accuracy'])"
   ]
  },
  {
   "cell_type": "markdown",
   "metadata": {},
   "source": [
    "Preprocess the data so that it would be fixed in to the model:  \n",
    "    - train_images should be converted to the shape of (60000, 28 * 28)  \n",
    "    - test_images should be converted to the shape of (10000, 28 * 28)  \n",
    "    - All pixel in these images have to be converted to the range of [0, 1] (float32) (originally, the pixel value is in the range of [0, 255] (int))"
   ]
  },
  {
   "cell_type": "code",
   "execution_count": 7,
   "metadata": {},
   "outputs": [],
   "source": [
    "train_images = train_images.reshape(60000, 28 * 28)\n",
    "train_images = train_images.astype('float32')/255\n",
    "test_images = test_images.reshape(10000, 28 * 28)\n",
    "test_images = test_images.astype('float32')/255"
   ]
  },
  {
   "cell_type": "markdown",
   "metadata": {},
   "source": [
    "Train the model in 5 epochs and the batch size of 128"
   ]
  },
  {
   "cell_type": "code",
   "execution_count": 8,
   "metadata": {},
   "outputs": [
    {
     "name": "stdout",
     "output_type": "stream",
     "text": [
      "Epoch 1/5\n",
      "60000/60000 [==============================] - 5s 92us/sample - loss: 0.2589 - acc: 0.9248\n",
      "Epoch 2/5\n",
      "60000/60000 [==============================] - 5s 88us/sample - loss: 0.1027 - acc: 0.9691\n",
      "Epoch 3/5\n",
      "60000/60000 [==============================] - 5s 88us/sample - loss: 0.0675 - acc: 0.9799\n",
      "Epoch 4/5\n",
      "60000/60000 [==============================] - 5s 87us/sample - loss: 0.0497 - acc: 0.9850\n",
      "Epoch 5/5\n",
      "60000/60000 [==============================] - 5s 86us/sample - loss: 0.0370 - acc: 0.9895\n"
     ]
    },
    {
     "data": {
      "text/plain": [
       "<tensorflow.python.keras.callbacks.History at 0x64a51bd30>"
      ]
     },
     "execution_count": 8,
     "metadata": {},
     "output_type": "execute_result"
    }
   ],
   "source": [
    "model.fit(train_images, train_labels, epochs = 5, batch_size = 128)"
   ]
  },
  {
   "cell_type": "markdown",
   "metadata": {},
   "source": [
    "Lasting 5 epochs, the accuracy raises to 98.9%  \n",
    "We do some test cases with the data in test_images"
   ]
  },
  {
   "cell_type": "code",
   "execution_count": 18,
   "metadata": {},
   "outputs": [
    {
     "name": "stdout",
     "output_type": "stream",
     "text": [
      "probability distribution for the first digit:\n",
      " [4.366e-09 5.390e-11 7.370e-07 3.325e-06 4.177e-12 3.317e-08 2.257e-15\n",
      " 1.000e+00 1.046e-08 1.770e-07]\n",
      "prediction for test_digits[0]: 7, with the accuracy of: 0.99999571\n",
      "The label result: 7\n"
     ]
    }
   ],
   "source": [
    "test_digits = test_images[0:10]\n",
    "predictions = model.predict(test_digits)\n",
    "print(\"probability distribution for the first digit:\\n {}\".format(predictions[0]))\n",
    "print(\"prediction for test_digits[0]: {}, with the accuracy of: {:.8f}\".format(predictions[0].argmax(), predictions[0][7]))\n",
    "print(\"The label result: {}\".format(test_labels[0]))"
   ]
  },
  {
   "cell_type": "markdown",
   "metadata": {},
   "source": [
    "The 8th value is nearly 1.0 => 7 should be the number in this picture  \n",
    "Next, we evaluate the quality of the model with all image in test_images set"
   ]
  },
  {
   "cell_type": "code",
   "execution_count": 21,
   "metadata": {},
   "outputs": [
    {
     "name": "stdout",
     "output_type": "stream",
     "text": [
      "10000/10000 [==============================] - 1s 54us/sample - loss: 0.0661 - acc: 0.9801\n",
      "test accuracy: 0.980\n"
     ]
    }
   ],
   "source": [
    "test_loss, test_acc = model.evaluate(test_images, test_labels)\n",
    "print(\"test accuracy: {:.3f}\".format(test_acc))"
   ]
  }
 ],
 "metadata": {
  "kernelspec": {
   "display_name": "Python 3",
   "language": "python",
   "name": "python3"
  },
  "language_info": {
   "codemirror_mode": {
    "name": "ipython",
    "version": 3
   },
   "file_extension": ".py",
   "mimetype": "text/x-python",
   "name": "python",
   "nbconvert_exporter": "python",
   "pygments_lexer": "ipython3",
   "version": "3.7.2"
  }
 },
 "nbformat": 4,
 "nbformat_minor": 4
}
