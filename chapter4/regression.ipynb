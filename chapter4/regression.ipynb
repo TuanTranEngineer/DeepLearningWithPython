{
 "cells": [
  {
   "cell_type": "markdown",
   "metadata": {},
   "source": [
    "# Section 4.3: Regression on Boston house price dataset"
   ]
  },
  {
   "cell_type": "code",
   "execution_count": 1,
   "metadata": {},
   "outputs": [],
   "source": [
    "from tensorflow.keras.datasets import boston_housing"
   ]
  },
  {
   "cell_type": "code",
   "execution_count": 4,
   "metadata": {},
   "outputs": [
    {
     "name": "stdout",
     "output_type": "stream",
     "text": [
      "train data shape: (404, 13), test data shape: (102, 13)\n",
      "[15.2 42.3 50.  21.1 17.7 18.5 11.3 15.6 15.6 14.4]\n"
     ]
    }
   ],
   "source": [
    "(train_data, train_target), (test_data, test_target) = boston_housing.load_data()\n",
    "print(\"train data shape: {}, test data shape: {}\".format(train_data.shape, test_data.shape))\n",
    "print(train_target[:10])"
   ]
  },
  {
   "cell_type": "code",
   "execution_count": 5,
   "metadata": {},
   "outputs": [],
   "source": [
    "mean = train_data.mean(axis = 0)\n",
    "train_data -= mean\n",
    "std = train_data.std(axis = 0)\n",
    "train_data /= std\n",
    "test_data -= mean\n",
    "test_data /= std"
   ]
  },
  {
   "cell_type": "code",
   "execution_count": 11,
   "metadata": {},
   "outputs": [],
   "source": [
    "from tensorflow import keras\n",
    "def build_model():\n",
    "    model = keras.Sequential([\n",
    "        keras.layers.Dense(64, activation = 'relu'),\n",
    "        keras.layers.Dense(64, activation = 'relu'),\n",
    "        keras.layers.Dense(1)\n",
    "    ])\n",
    "    model.compile(optimizer = 'rmsprop', loss = 'mse', metrics = ['mae'])\n",
    "    return model"
   ]
  },
  {
   "cell_type": "markdown",
   "metadata": {},
   "source": [
    "### K-fold validation"
   ]
  },
  {
   "cell_type": "code",
   "execution_count": 13,
   "metadata": {},
   "outputs": [
    {
     "name": "stdout",
     "output_type": "stream",
     "text": [
      "Processing fold 0\n",
      "Processing fold 1\n",
      "Processing fold 2\n",
      "Processing fold 3\n"
     ]
    }
   ],
   "source": [
    "import numpy as np\n",
    "k = 4\n",
    "num_val_samples = len(train_data)//k\n",
    "num_epochs = 100\n",
    "all_scores = []\n",
    "for i in range(k):\n",
    "    print(\"Processing fold {}\".format(i))\n",
    "    val_data = train_data[i*num_val_samples : (i + 1)*num_val_samples]\n",
    "    val_target = train_target[i*num_val_samples : (i + 1)*num_val_samples]\n",
    "    partial_train_data = np.concatenate([\n",
    "        train_data[:i*num_val_samples],\n",
    "        train_data[(i + 1)*num_val_samples:]\n",
    "    ], axis = 0)\n",
    "    partial_train_target = np.concatenate([\n",
    "        train_target[:i*num_val_samples],\n",
    "        train_target[(i + 1)*num_val_samples:]\n",
    "    ], axis = 0)\n",
    "    model = build_model()\n",
    "    model.fit(partial_train_data, partial_train_target, epochs = num_epochs, batch_size = 1, verbose = 0)\n",
    "    val_mse, val_mae = model.evaluate(val_data, val_target, verbose = 0)\n",
    "    all_scores.append(val_mae)"
   ]
  },
  {
   "cell_type": "code",
   "execution_count": 14,
   "metadata": {},
   "outputs": [
    {
     "name": "stdout",
     "output_type": "stream",
     "text": [
      "[2.4519744, 2.6298327, 2.5868893, 2.4225664]\n",
      "2.5228157\n"
     ]
    }
   ],
   "source": [
    "print(all_scores)\n",
    "print(np.mean(all_scores))"
   ]
  },
  {
   "cell_type": "markdown",
   "metadata": {},
   "source": [
    "### Train the model with 500 epochs and record the validation score each epoch"
   ]
  },
  {
   "cell_type": "code",
   "execution_count": 15,
   "metadata": {},
   "outputs": [
    {
     "name": "stdout",
     "output_type": "stream",
     "text": [
      "Processing fold 0\n",
      "Processing fold 1\n",
      "Processing fold 2\n",
      "Processing fold 3\n"
     ]
    }
   ],
   "source": [
    "num_epochs = 500\n",
    "all_mae_history = []\n",
    "for i in range(k):\n",
    "    print(\"Processing fold {}\".format(i))\n",
    "    val_data = train_data[i*num_val_samples : (i + 1)*num_val_samples]\n",
    "    val_target = train_target[i*num_val_samples : (i + 1)*num_val_samples]\n",
    "    partial_train_data = np.concatenate([\n",
    "        train_data[:i*num_val_samples],\n",
    "        train_data[(i + 1)*num_val_samples:]\n",
    "    ], axis = 0)\n",
    "    partial_train_target = np.concatenate([\n",
    "        train_target[:i*num_val_samples],\n",
    "        train_target[(i + 1)*num_val_samples:]\n",
    "    ], axis = 0)\n",
    "    model = build_model()\n",
    "    history = model.fit(partial_train_data, \n",
    "                        partial_train_target, \n",
    "                        epochs = num_epochs, \n",
    "                        batch_size = 1, \n",
    "                        verbose = 0,\n",
    "                        validation_data = (val_data, val_target)\n",
    "                       )\n",
    "    all_mae_history.append(history.history['val_mae'])"
   ]
  },
  {
   "cell_type": "code",
   "execution_count": 17,
   "metadata": {},
   "outputs": [
    {
     "name": "stdout",
     "output_type": "stream",
     "text": [
      "(4, 500)\n"
     ]
    }
   ],
   "source": [
    "mae_history = np.array(all_mae_history)\n",
    "print(mae_history.shape)"
   ]
  },
  {
   "cell_type": "code",
   "execution_count": 19,
   "metadata": {},
   "outputs": [
    {
     "name": "stdout",
     "output_type": "stream",
     "text": [
      "(500,)\n"
     ]
    }
   ],
   "source": [
    "mae_average = mae_history.mean(axis = 0)\n",
    "print(mae_average.shape)"
   ]
  },
  {
   "cell_type": "code",
   "execution_count": 20,
   "metadata": {},
   "outputs": [
    {
     "data": {
      "image/png": "[encoded data removed]",
      "text/plain": [
       "<Figure size 432x288 with 1 Axes>"
      ]
     },
     "metadata": {
      "needs_background": "light"
     },
     "output_type": "display_data"
    }
   ],
   "source": [
    "import matplotlib.pyplot as plt\n",
    "plt.plot(range(1, len(mae_average) + 1), mae_average)\n",
    "plt.xlabel(\"Epochs\")\n",
    "plt.ylabel(\"MAE\")\n",
    "plt.title(\"Training MAE\")\n",
    "plt.show()"
   ]
  },
  {
   "cell_type": "markdown",
   "metadata": {},
   "source": [
    "The chart is hard to see. We do the following:  \n",
    "    - Omit 10 first points since they are in difference scale than the rest  \n",
    "    - Replace each point with an exponential moving average of the previous point to obtain smooth curve. "
   ]
  },
  {
   "cell_type": "code",
   "execution_count": 21,
   "metadata": {},
   "outputs": [],
   "source": [
    "def smooth_curve(points, factor = 0.9):\n",
    "    smoothed_points = []\n",
    "    for point in points:\n",
    "        if smoothed_points:\n",
    "            previous = smoothed_points[-1]\n",
    "            smoothed_points.append(factor * previous + (1 - factor) * point)\n",
    "        else:\n",
    "            smoothed_points.append(point)\n",
    "    return np.array(smoothed_points)"
   ]
  },
  {
   "cell_type": "code",
   "execution_count": 28,
   "metadata": {},
   "outputs": [
    {
     "data": {
      "image/png": "[encoded data removed]",
      "text/plain": [
       "<Figure size 432x288 with 1 Axes>"
      ]
     },
     "metadata": {
      "needs_background": "light"
     },
     "output_type": "display_data"
    },
    {
     "name": "stdout",
     "output_type": "stream",
     "text": [
      "MAE reach minimum at: 21\n",
      "MAE minimum value: 2.3018810749053955\n"
     ]
    }
   ],
   "source": [
    "plt.plot(range(11, len(mae_average) + 1), smooth_curve(mae_average[10:]))\n",
    "plt.xlabel(\"Epochs\")\n",
    "plt.ylabel(\"MAE\")\n",
    "plt.title(\"Training MAE\")\n",
    "plt.show()\n",
    "print(\"MAE reach minimum at: {}\".format(np.argmin(mae_average)))\n",
    "print(\"MAE minimum value: {}\".format(np.min(mae_average)))"
   ]
  },
  {
   "cell_type": "markdown",
   "metadata": {},
   "source": [
    "### Train the final model"
   ]
  },
  {
   "cell_type": "code",
   "execution_count": 30,
   "metadata": {},
   "outputs": [
    {
     "name": "stdout",
     "output_type": "stream",
     "text": [
      "MSE score = 17.657101500268077, MAE score = 2.650527000427246\n"
     ]
    }
   ],
   "source": [
    "model = build_model()\n",
    "model.fit(train_data, train_target, epochs = 80, batch_size = 16, verbose = 0)\n",
    "mse_score, mae_score = model.evaluate(test_data, test_target, verbose = 0)\n",
    "print(\"MSE score = {}, MAE score = {}\".format(mse_score, mae_score))"
   ]
  },
  {
   "cell_type": "code",
   "execution_count": 36,
   "metadata": {},
   "outputs": [
    {
     "name": "stdout",
     "output_type": "stream",
     "text": [
      "Prediction 0-10: \n",
      "[[ 7.055311 18.390923 21.019272 31.397491 24.429825 20.578266 25.25946\n",
      "  20.883194 19.122303 21.382877]]\n",
      "Target 0 - 10: \n",
      "[ 7.2 18.8 19.  27.  22.2 24.5 31.2 22.9 20.5 23.2]\n"
     ]
    }
   ],
   "source": [
    "#predict:\n",
    "predictions = model.predict(test_data)\n",
    "print(\"Prediction 0-10: \\n{}\".format(predictions[0:10].T))\n",
    "print(\"Target 0 - 10: \\n{}\".format(test_target[0:10]))"
   ]
  }
 ],
 "metadata": {
  "kernelspec": {
   "display_name": "Python 3",
   "language": "python",
   "name": "python3"
  },
  "language_info": {
   "codemirror_mode": {
    "name": "ipython",
    "version": 3
   },
   "file_extension": ".py",
   "mimetype": "text/x-python",
   "name": "python",
   "nbconvert_exporter": "python",
   "pygments_lexer": "ipython3",
   "version": "3.7.5"
  }
 },
 "nbformat": 4,
 "nbformat_minor": 4
}
