{
 "cells": [
  {
   "cell_type": "markdown",
   "metadata": {},
   "source": [
    "# Section 4.1: Binary classification with IMDB dataset"
   ]
  },
  {
   "cell_type": "code",
   "execution_count": 1,
   "metadata": {},
   "outputs": [],
   "source": [
    "from tensorflow.keras.datasets import imdb"
   ]
  },
  {
   "cell_type": "code",
   "execution_count": 2,
   "metadata": {},
   "outputs": [],
   "source": [
    "(train_data, train_labels), (test_data, test_labels) = imdb.load_data(num_words = 10000)"
   ]
  },
  {
   "cell_type": "code",
   "execution_count": 3,
   "metadata": {},
   "outputs": [
    {
     "name": "stdout",
     "output_type": "stream",
     "text": [
      "[1, 14, 22, 16, 43, 530, 973, 1622, 1385, 65, 458, 4468, 66, 3941, 4, 173, 36, 256, 5, 25, 100, 43, 838, 112, 50, 670, 2, 9, 35, 480, 284, 5, 150, 4, 172, 112, 167, 2, 336, 385, 39, 4, 172, 4536, 1111, 17, 546, 38, 13, 447, 4, 192, 50, 16, 6, 147, 2025, 19, 14, 22, 4, 1920, 4613, 469, 4, 22, 71, 87, 12, 16, 43, 530, 38, 76, 15, 13, 1247, 4, 22, 17, 515, 17, 12, 16, 626, 18, 2, 5, 62, 386, 12, 8, 316, 8, 106, 5, 4, 2223, 5244, 16, 480, 66, 3785, 33, 4, 130, 12, 16, 38, 619, 5, 25, 124, 51, 36, 135, 48, 25, 1415, 33, 6, 22, 12, 215, 28, 77, 52, 5, 14, 407, 16, 82, 2, 8, 4, 107, 117, 5952, 15, 256, 4, 2, 7, 3766, 5, 723, 36, 71, 43, 530, 476, 26, 400, 317, 46, 7, 4, 2, 1029, 13, 104, 88, 4, 381, 15, 297, 98, 32, 2071, 56, 26, 141, 6, 194, 7486, 18, 4, 226, 22, 21, 134, 476, 26, 480, 5, 144, 30, 5535, 18, 51, 36, 28, 224, 92, 25, 104, 4, 226, 65, 16, 38, 1334, 88, 12, 16, 283, 5, 16, 4472, 113, 103, 32, 15, 16, 5345, 19, 178, 32]\n",
      "1\n"
     ]
    }
   ],
   "source": [
    "print(train_data[0])\n",
    "print(train_labels[0])"
   ]
  },
  {
   "cell_type": "code",
   "execution_count": 4,
   "metadata": {},
   "outputs": [
    {
     "name": "stdout",
     "output_type": "stream",
     "text": [
      "? this film was just brilliant casting location scenery story direction everyone's really suited the part they played and you could just imagine being there robert ? is an amazing actor and now the same being director ? father came from the same scottish island as myself so i loved the fact there was a real connection with this film the witty remarks throughout the film were great it was just brilliant so much that i bought the film as soon as it was released for ? and would recommend it to everyone to watch and the fly fishing was amazing really cried at the end it was so sad and you know what they say if you cry at a film it must have been good and this definitely was also ? to the two little boy's that played the ? of norman and paul they were just brilliant children are often left out of the ? list i think because the stars that play them all grown up are such a big profile for the whole film but these children are amazing and should be praised for what they have done don't you think the whole story was so lovely because it was true and was someone's life after all that was shared with us all\n"
     ]
    }
   ],
   "source": [
    "word_index = imdb.get_word_index()\n",
    "reverse_word_index = dict((value, key) for (key, value) in word_index.items())\n",
    "decoded_review = ' '.join([reverse_word_index.get(i - 3, '?') for i in train_data[0]])\n",
    "print(decoded_review)"
   ]
  },
  {
   "cell_type": "code",
   "execution_count": 5,
   "metadata": {},
   "outputs": [],
   "source": [
    "import numpy as np\n",
    "\n",
    "def vectorize_sequence(sequences, dimensions = 10000):\n",
    "    results = np.zeros((len(sequences), dimensions))\n",
    "    for i, sequence in enumerate(sequences):\n",
    "        results[i, sequence] = 1.0\n",
    "    return results"
   ]
  },
  {
   "cell_type": "code",
   "execution_count": 6,
   "metadata": {},
   "outputs": [
    {
     "name": "stdout",
     "output_type": "stream",
     "text": [
      "[0. 1. 1. ... 0. 0. 0.]\n"
     ]
    }
   ],
   "source": [
    "x_train = vectorize_sequence(train_data)\n",
    "x_test = vectorize_sequence(test_data)\n",
    "print(x_train[0])"
   ]
  },
  {
   "cell_type": "code",
   "execution_count": 7,
   "metadata": {},
   "outputs": [
    {
     "name": "stdout",
     "output_type": "stream",
     "text": [
      "[1 0 0 ... 0 1 0]\n",
      "[1. 0. 0. ... 0. 1. 0.]\n"
     ]
    }
   ],
   "source": [
    "print(train_labels)\n",
    "y_train = np.asarray(train_labels).astype('float32')\n",
    "y_test = np.asarray(test_labels).astype('float32')\n",
    "print(y_train)"
   ]
  },
  {
   "cell_type": "code",
   "execution_count": 8,
   "metadata": {},
   "outputs": [],
   "source": [
    "from tensorflow import keras\n",
    "\n",
    "model = keras.Sequential([\n",
    "    keras.layers.Dense(16, activation = 'relu'),\n",
    "    keras.layers.Dense(16, activation = 'relu'),\n",
    "    keras.layers.Dense(1, activation = 'sigmoid')\n",
    "])\n",
    "\n",
    "model.compile(optimizer = 'rmsprop', loss = 'binary_crossentropy', metrics = ['accuracy'])"
   ]
  },
  {
   "cell_type": "code",
   "execution_count": 9,
   "metadata": {},
   "outputs": [],
   "source": [
    "x_val = x_train[:10000]\n",
    "partial_x_train = x_train[10000:]\n",
    "y_val = y_train[:10000]\n",
    "partial_y_train = y_train[10000:]"
   ]
  },
  {
   "cell_type": "code",
   "execution_count": 10,
   "metadata": {},
   "outputs": [
    {
     "name": "stdout",
     "output_type": "stream",
     "text": [
      "Train on 15000 samples, validate on 10000 samples\n",
      "Epoch 1/20\n",
      "15000/15000 [==============================] - 6s 369us/sample - loss: 0.5375 - accuracy: 0.7659 - val_loss: 0.3979 - val_accuracy: 0.8703\n",
      "Epoch 2/20\n",
      "15000/15000 [==============================] - 3s 186us/sample - loss: 0.3128 - accuracy: 0.9003 - val_loss: 0.3096 - val_accuracy: 0.8821\n",
      "Epoch 3/20\n",
      "15000/15000 [==============================] - 3s 188us/sample - loss: 0.2285 - accuracy: 0.9237 - val_loss: 0.2805 - val_accuracy: 0.8908\n",
      "Epoch 4/20\n",
      "15000/15000 [==============================] - 3s 185us/sample - loss: 0.1803 - accuracy: 0.9407 - val_loss: 0.2922 - val_accuracy: 0.8836\n",
      "Epoch 5/20\n",
      "15000/15000 [==============================] - 3s 189us/sample - loss: 0.1489 - accuracy: 0.9513 - val_loss: 0.2804 - val_accuracy: 0.8881\n",
      "Epoch 6/20\n",
      "15000/15000 [==============================] - 3s 184us/sample - loss: 0.1224 - accuracy: 0.9624 - val_loss: 0.2995 - val_accuracy: 0.8811\n",
      "Epoch 7/20\n",
      "15000/15000 [==============================] - 3s 186us/sample - loss: 0.1012 - accuracy: 0.9684 - val_loss: 0.3331 - val_accuracy: 0.8727\n",
      "Epoch 8/20\n",
      "15000/15000 [==============================] - 3s 187us/sample - loss: 0.0885 - accuracy: 0.9740 - val_loss: 0.3259 - val_accuracy: 0.8833\n",
      "Epoch 9/20\n",
      "15000/15000 [==============================] - 3s 197us/sample - loss: 0.0743 - accuracy: 0.9787 - val_loss: 0.3787 - val_accuracy: 0.8765\n",
      "Epoch 10/20\n",
      "15000/15000 [==============================] - 3s 200us/sample - loss: 0.0604 - accuracy: 0.9843 - val_loss: 0.3715 - val_accuracy: 0.8787\n",
      "Epoch 11/20\n",
      "15000/15000 [==============================] - 3s 185us/sample - loss: 0.0507 - accuracy: 0.9880 - val_loss: 0.3945 - val_accuracy: 0.8778\n",
      "Epoch 12/20\n",
      "15000/15000 [==============================] - 3s 186us/sample - loss: 0.0413 - accuracy: 0.9905 - val_loss: 0.4953 - val_accuracy: 0.8669\n",
      "Epoch 13/20\n",
      "15000/15000 [==============================] - 3s 185us/sample - loss: 0.0356 - accuracy: 0.9909 - val_loss: 0.4589 - val_accuracy: 0.8704\n",
      "Epoch 14/20\n",
      "15000/15000 [==============================] - 3s 184us/sample - loss: 0.0284 - accuracy: 0.9944 - val_loss: 0.4852 - val_accuracy: 0.8703\n",
      "Epoch 15/20\n",
      "15000/15000 [==============================] - 4s 235us/sample - loss: 0.0213 - accuracy: 0.9965 - val_loss: 0.5228 - val_accuracy: 0.8679\n",
      "Epoch 16/20\n",
      "15000/15000 [==============================] - 3s 202us/sample - loss: 0.0205 - accuracy: 0.9960 - val_loss: 0.5570 - val_accuracy: 0.8677\n",
      "Epoch 17/20\n",
      "15000/15000 [==============================] - 3s 193us/sample - loss: 0.0137 - accuracy: 0.9979 - val_loss: 0.5839 - val_accuracy: 0.8659\n",
      "Epoch 18/20\n",
      "15000/15000 [==============================] - 3s 187us/sample - loss: 0.0124 - accuracy: 0.9985 - val_loss: 0.6324 - val_accuracy: 0.8668\n",
      "Epoch 19/20\n",
      "15000/15000 [==============================] - 3s 209us/sample - loss: 0.0074 - accuracy: 0.9996 - val_loss: 0.6564 - val_accuracy: 0.8618\n",
      "Epoch 20/20\n",
      "15000/15000 [==============================] - 3s 186us/sample - loss: 0.0094 - accuracy: 0.9981 - val_loss: 0.6958 - val_accuracy: 0.8648\n"
     ]
    }
   ],
   "source": [
    "history = model.fit(partial_x_train, \n",
    "                    partial_y_train, \n",
    "                    epochs = 20, \n",
    "                    batch_size = 512, \n",
    "                    validation_data = (x_val, y_val))"
   ]
  },
  {
   "cell_type": "code",
   "execution_count": 11,
   "metadata": {},
   "outputs": [
    {
     "name": "stdout",
     "output_type": "stream",
     "text": [
      "dict_keys(['loss', 'accuracy', 'val_loss', 'val_accuracy'])\n"
     ]
    }
   ],
   "source": [
    "history_dict = history.history\n",
    "print(history_dict.keys())"
   ]
  },
  {
   "cell_type": "code",
   "execution_count": 12,
   "metadata": {},
   "outputs": [
    {
     "data": {
      "image/png": "[encoded data removed]",
      "text/plain": [
       "<Figure size 432x288 with 1 Axes>"
      ]
     },
     "metadata": {
      "needs_background": "light"
     },
     "output_type": "display_data"
    }
   ],
   "source": [
    "import matplotlib.pyplot as plt\n",
    "\n",
    "loss = history_dict['loss']\n",
    "loss_val = history_dict['val_loss']\n",
    "epochs = range(1, len(loss) + 1)\n",
    "plt.plot(epochs, loss, 'bo', label = \"Training Loss\")\n",
    "plt.plot(epochs, loss_val, 'b', label = \"Validation Loss\")\n",
    "plt.title(\"Training and Validation loss\")\n",
    "plt.xlabel(\"Epochs\")\n",
    "plt.ylabel(\"Loss\")\n",
    "plt.legend()\n",
    "plt.show()"
   ]
  },
  {
   "cell_type": "code",
   "execution_count": 13,
   "metadata": {},
   "outputs": [
    {
     "data": {
      "image/png": "[encoded data removed]",
      "text/plain": [
       "<Figure size 432x288 with 1 Axes>"
      ]
     },
     "metadata": {
      "needs_background": "light"
     },
     "output_type": "display_data"
    }
   ],
   "source": [
    "accuracy = history_dict['accuracy']\n",
    "accuracy_val = history_dict['val_accuracy']\n",
    "epochs = range(1, len(loss) + 1)\n",
    "plt.plot(epochs, accuracy, 'bo', label = \"Training accuracy\")\n",
    "plt.plot(epochs, accuracy_val, 'b', label = \"Validation accuracy\")\n",
    "plt.title(\"Training and Validation accuracy\")\n",
    "plt.xlabel(\"Epochs\")\n",
    "plt.ylabel(\"Accuracy\")\n",
    "plt.legend()\n",
    "plt.show()"
   ]
  },
  {
   "cell_type": "markdown",
   "metadata": {},
   "source": [
    "## This is a overfitting model!!! -> train another one with 4 epochs"
   ]
  },
  {
   "cell_type": "code",
   "execution_count": 14,
   "metadata": {},
   "outputs": [
    {
     "name": "stdout",
     "output_type": "stream",
     "text": [
      "Train on 15000 samples, validate on 10000 samples\n",
      "Epoch 1/4\n",
      "15000/15000 [==============================] - 5s 311us/sample - loss: 0.5180 - accuracy: 0.7825 - val_loss: 0.3822 - val_accuracy: 0.8691\n",
      "Epoch 2/4\n",
      "15000/15000 [==============================] - 3s 209us/sample - loss: 0.3033 - accuracy: 0.9034 - val_loss: 0.3284 - val_accuracy: 0.8673\n",
      "Epoch 3/4\n",
      "15000/15000 [==============================] - 3s 208us/sample - loss: 0.2218 - accuracy: 0.9275 - val_loss: 0.2952 - val_accuracy: 0.8825\n",
      "Epoch 4/4\n",
      "15000/15000 [==============================] - 3s 194us/sample - loss: 0.1763 - accuracy: 0.9417 - val_loss: 0.2745 - val_accuracy: 0.8897\n"
     ]
    },
    {
     "data": {
      "text/plain": [
       "[0.2920541336727142, 0.88276]"
      ]
     },
     "execution_count": 14,
     "metadata": {},
     "output_type": "execute_result"
    }
   ],
   "source": [
    "model = keras.Sequential([\n",
    "    keras.layers.Dense(16, activation = 'relu'),\n",
    "    keras.layers.Dense(16, activation = 'relu'),\n",
    "    keras.layers.Dense(1, activation = 'sigmoid')\n",
    "])\n",
    "model.compile(optimizer = 'rmsprop', loss = 'binary_crossentropy', metrics = ['accuracy'])\n",
    "model.fit(partial_x_train, \n",
    "          partial_y_train, \n",
    "          epochs = 4,\n",
    "          batch_size = 512,\n",
    "          validation_data = (x_val, y_val)\n",
    "         )\n",
    "results = model.evaluate(x_test, y_test, verbose = 0)\n",
    "results"
   ]
  }
 ],
 "metadata": {
  "kernelspec": {
   "display_name": "Python 3",
   "language": "python",
   "name": "python3"
  },
  "language_info": {
   "codemirror_mode": {
    "name": "ipython",
    "version": 3
   },
   "file_extension": ".py",
   "mimetype": "text/x-python",
   "name": "python",
   "nbconvert_exporter": "python",
   "pygments_lexer": "ipython3",
   "version": "3.7.5"
  }
 },
 "nbformat": 4,
 "nbformat_minor": 4
}
