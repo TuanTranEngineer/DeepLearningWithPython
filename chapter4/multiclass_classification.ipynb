{
 "cells": [
  {
   "cell_type": "markdown",
   "metadata": {},
   "source": [
    "# Section 4.2: Single label, multiclass classification with Reuters dataset"
   ]
  },
  {
   "cell_type": "code",
   "execution_count": 1,
   "metadata": {},
   "outputs": [],
   "source": [
    "from tensorflow.keras.datasets import reuters"
   ]
  },
  {
   "cell_type": "code",
   "execution_count": 2,
   "metadata": {},
   "outputs": [],
   "source": [
    "(train_data, train_label), (test_data, test_label) = reuters.load_data(num_words = 10000)"
   ]
  },
  {
   "cell_type": "code",
   "execution_count": 3,
   "metadata": {},
   "outputs": [
    {
     "name": "stdout",
     "output_type": "stream",
     "text": [
      "train data: 8982 samples, test data: 2246 samples\n"
     ]
    }
   ],
   "source": [
    "print(\"train data: {} samples, test data: {} samples\".format(len(train_data), len(test_data)))"
   ]
  },
  {
   "cell_type": "code",
   "execution_count": 4,
   "metadata": {},
   "outputs": [
    {
     "name": "stdout",
     "output_type": "stream",
     "text": [
      "[1, 245, 273, 207, 156, 53, 74, 160, 26, 14, 46, 296, 26, 39, 74, 2979, 3554, 14, 46, 4689, 4329, 86, 61, 3499, 4795, 14, 61, 451, 4329, 17, 12]\n"
     ]
    }
   ],
   "source": [
    "print(train_data[10])"
   ]
  },
  {
   "cell_type": "code",
   "execution_count": 5,
   "metadata": {},
   "outputs": [
    {
     "name": "stdout",
     "output_type": "stream",
     "text": [
      "? ? ? said as a result of its december acquisition of space co it expects earnings per share in 1987 of 1 15 to 1 30 dlrs per share up from 70 cts in 1986 the company said pretax net should rise to nine to 10 mln dlrs from six mln dlrs in 1986 and rental operation revenues to 19 to 22 mln dlrs from 12 5 mln dlrs it said cash flow per share this year should be 2 50 to three dlrs reuter 3\n"
     ]
    }
   ],
   "source": [
    "word_index = reuters.get_word_index()\n",
    "reversed_word_index = dict([(value, key) for (key, value) in word_index.items()])\n",
    "decoded_newswire = ' '.join([reversed_word_index.get(i - 3, '?') for i in train_data[0]])\n",
    "print(decoded_newswire)"
   ]
  },
  {
   "cell_type": "code",
   "execution_count": 6,
   "metadata": {},
   "outputs": [
    {
     "name": "stdout",
     "output_type": "stream",
     "text": [
      "3\n"
     ]
    }
   ],
   "source": [
    "print(train_label[0])"
   ]
  },
  {
   "cell_type": "code",
   "execution_count": 7,
   "metadata": {},
   "outputs": [],
   "source": [
    "import numpy as np\n",
    "def vectorize_sequences(sequences, dimensions = 10000):\n",
    "    results = np.zeros((len(sequences), dimensions))\n",
    "    for i, seq in enumerate(sequences):\n",
    "        results[i, seq] = 1.0\n",
    "    return results"
   ]
  },
  {
   "cell_type": "code",
   "execution_count": 8,
   "metadata": {},
   "outputs": [],
   "source": [
    "x_train = vectorize_sequences(train_data)\n",
    "x_test = vectorize_sequences(test_data)"
   ]
  },
  {
   "cell_type": "code",
   "execution_count": 9,
   "metadata": {},
   "outputs": [],
   "source": [
    "def to_one_hot(labels, dimensions = 46):\n",
    "    results = np.zeros((len(labels), dimensions))\n",
    "    for i, label in enumerate(labels):\n",
    "        results[i, label] = 1.0\n",
    "    return results"
   ]
  },
  {
   "cell_type": "code",
   "execution_count": 10,
   "metadata": {},
   "outputs": [],
   "source": [
    "one_hot_train_label = to_one_hot(train_label)\n",
    "one_hot_test_lable = to_one_hot(test_label)"
   ]
  },
  {
   "cell_type": "code",
   "execution_count": 11,
   "metadata": {},
   "outputs": [],
   "source": [
    "# another way to do one hot encode the label:\n",
    "from tensorflow.keras.utils import to_categorical\n",
    "\n",
    "one_hot_train_label = to_categorical(train_label)\n",
    "one_hot_test_lable = to_categorical(test_label)"
   ]
  },
  {
   "cell_type": "code",
   "execution_count": 12,
   "metadata": {},
   "outputs": [],
   "source": [
    "from tensorflow import keras\n",
    "model = keras.Sequential([\n",
    "    keras.layers.Dense(64, activation = 'relu'),\n",
    "    keras.layers.Dense(64, activation = 'relu'),\n",
    "    keras.layers.Dense(46, activation = 'softmax'),\n",
    "])\n",
    "\n",
    "model.compile(optimizer = 'rmsprop',\n",
    "              loss = 'categorical_crossentropy',\n",
    "              metrics = ['accuracy']\n",
    ")"
   ]
  },
  {
   "cell_type": "code",
   "execution_count": 13,
   "metadata": {},
   "outputs": [],
   "source": [
    "x_val = x_train[:1000]\n",
    "partial_x_train = x_train[1000:]\n",
    "y_val = one_hot_train_label[:1000]\n",
    "partial_y_train = one_hot_train_label[1000:]"
   ]
  },
  {
   "cell_type": "code",
   "execution_count": 14,
   "metadata": {},
   "outputs": [
    {
     "name": "stdout",
     "output_type": "stream",
     "text": [
      "Train on 7982 samples, validate on 1000 samples\n",
      "Epoch 1/20\n",
      "7982/7982 [==============================] - 5s 624us/sample - loss: 2.5429 - accuracy: 0.5040 - val_loss: 1.7126 - val_accuracy: 0.6320\n",
      "Epoch 2/20\n",
      "7982/7982 [==============================] - 3s 324us/sample - loss: 1.4304 - accuracy: 0.6983 - val_loss: 1.3247 - val_accuracy: 0.7110\n",
      "Epoch 3/20\n",
      "7982/7982 [==============================] - 2s 289us/sample - loss: 1.0831 - accuracy: 0.7641 - val_loss: 1.1637 - val_accuracy: 0.7330\n",
      "Epoch 4/20\n",
      "7982/7982 [==============================] - 2s 252us/sample - loss: 0.8624 - accuracy: 0.8103 - val_loss: 1.0728 - val_accuracy: 0.7720\n",
      "Epoch 5/20\n",
      "7982/7982 [==============================] - 2s 249us/sample - loss: 0.6928 - accuracy: 0.8517 - val_loss: 0.9962 - val_accuracy: 0.7840\n",
      "Epoch 6/20\n",
      "7982/7982 [==============================] - 2s 251us/sample - loss: 0.5511 - accuracy: 0.8854 - val_loss: 0.9296 - val_accuracy: 0.8110\n",
      "Epoch 7/20\n",
      "7982/7982 [==============================] - 2s 248us/sample - loss: 0.4443 - accuracy: 0.9093 - val_loss: 0.9298 - val_accuracy: 0.8020\n",
      "Epoch 8/20\n",
      "7982/7982 [==============================] - 2s 248us/sample - loss: 0.3598 - accuracy: 0.9260 - val_loss: 0.8991 - val_accuracy: 0.8140\n",
      "Epoch 9/20\n",
      "7982/7982 [==============================] - 2s 250us/sample - loss: 0.2955 - accuracy: 0.9344 - val_loss: 0.8957 - val_accuracy: 0.8190\n",
      "Epoch 10/20\n",
      "7982/7982 [==============================] - 2s 248us/sample - loss: 0.2490 - accuracy: 0.9419 - val_loss: 0.9124 - val_accuracy: 0.8160\n",
      "Epoch 11/20\n",
      "7982/7982 [==============================] - 2s 288us/sample - loss: 0.2137 - accuracy: 0.9476 - val_loss: 0.9208 - val_accuracy: 0.8180\n",
      "Epoch 12/20\n",
      "7982/7982 [==============================] - 2s 265us/sample - loss: 0.1839 - accuracy: 0.9508 - val_loss: 0.9295 - val_accuracy: 0.8240\n",
      "Epoch 13/20\n",
      "7982/7982 [==============================] - 2s 250us/sample - loss: 0.1647 - accuracy: 0.9549 - val_loss: 0.9523 - val_accuracy: 0.8120\n",
      "Epoch 14/20\n",
      "7982/7982 [==============================] - 2s 252us/sample - loss: 0.1493 - accuracy: 0.9557 - val_loss: 0.9973 - val_accuracy: 0.8140\n",
      "Epoch 15/20\n",
      "7982/7982 [==============================] - 2s 250us/sample - loss: 0.1404 - accuracy: 0.9568 - val_loss: 0.9820 - val_accuracy: 0.8130\n",
      "Epoch 16/20\n",
      "7982/7982 [==============================] - 2s 249us/sample - loss: 0.1328 - accuracy: 0.9563 - val_loss: 1.0411 - val_accuracy: 0.8000\n",
      "Epoch 17/20\n",
      "7982/7982 [==============================] - 2s 249us/sample - loss: 0.1230 - accuracy: 0.9573 - val_loss: 1.0701 - val_accuracy: 0.7920\n",
      "Epoch 18/20\n",
      "7982/7982 [==============================] - 2s 250us/sample - loss: 0.1174 - accuracy: 0.9564 - val_loss: 1.0222 - val_accuracy: 0.8040\n",
      "Epoch 19/20\n",
      "7982/7982 [==============================] - 2s 284us/sample - loss: 0.1150 - accuracy: 0.9573 - val_loss: 1.0457 - val_accuracy: 0.8090\n",
      "Epoch 20/20\n",
      "7982/7982 [==============================] - 2s 303us/sample - loss: 0.1107 - accuracy: 0.9572 - val_loss: 1.0733 - val_accuracy: 0.8080\n"
     ]
    }
   ],
   "source": [
    "history = model.fit(\n",
    "    partial_x_train,\n",
    "    partial_y_train,\n",
    "    epochs = 20,\n",
    "    batch_size = 512,\n",
    "    validation_data = (x_val, y_val)\n",
    ")"
   ]
  },
  {
   "cell_type": "code",
   "execution_count": 15,
   "metadata": {},
   "outputs": [
    {
     "name": "stdout",
     "output_type": "stream",
     "text": [
      "dict_keys(['loss', 'accuracy', 'val_loss', 'val_accuracy'])\n"
     ]
    }
   ],
   "source": [
    "import matplotlib.pyplot as plt\n",
    "history_dict = history.history\n",
    "print(history_dict.keys())"
   ]
  },
  {
   "cell_type": "code",
   "execution_count": 16,
   "metadata": {},
   "outputs": [
    {
     "data": {
      "image/png": "[encoded data removed]",
      "text/plain": [
       "<Figure size 432x288 with 1 Axes>"
      ]
     },
     "metadata": {
      "needs_background": "light"
     },
     "output_type": "display_data"
    }
   ],
   "source": [
    "loss = history_dict['loss']\n",
    "loss_val = history_dict['val_loss']\n",
    "epochs = range(1, len(loss) + 1)\n",
    "plt.plot(epochs, loss, 'bo', label = \"Training loss\")\n",
    "plt.plot(epochs, loss_val, 'b', label = \"Validation loss\")\n",
    "plt.xlabel(\"Epochs\")\n",
    "plt.ylabel(\"Loss\")\n",
    "plt.title(\"Loss chart\")\n",
    "plt.legend()\n",
    "plt.show()"
   ]
  },
  {
   "cell_type": "code",
   "execution_count": 17,
   "metadata": {},
   "outputs": [
    {
     "data": {
      "image/png": "[encoded data removed]",
      "text/plain": [
       "<Figure size 432x288 with 1 Axes>"
      ]
     },
     "metadata": {
      "needs_background": "light"
     },
     "output_type": "display_data"
    }
   ],
   "source": [
    "acc = history_dict['accuracy']\n",
    "acc_val = history_dict['val_accuracy']\n",
    "epochs = range(1, len(acc) + 1)\n",
    "plt.plot(epochs, acc, 'bo', label = \"Training accuracy\")\n",
    "plt.plot(epochs, acc_val, 'b', label = \"Validation accuracy\")\n",
    "plt.xlabel(\"Epochs\")\n",
    "plt.ylabel(\"Accuracy\")\n",
    "plt.title(\"Accuracy chart\")\n",
    "plt.legend()\n",
    "plt.show()"
   ]
  },
  {
   "cell_type": "markdown",
   "metadata": {},
   "source": [
    "### The model is overfitted since the 9th epoch, re-train a new model with 9 epochs"
   ]
  },
  {
   "cell_type": "code",
   "execution_count": 18,
   "metadata": {},
   "outputs": [
    {
     "name": "stdout",
     "output_type": "stream",
     "text": [
      "Train on 7982 samples, validate on 1000 samples\n",
      "Epoch 1/9\n",
      "7982/7982 [==============================] - 4s 499us/sample - loss: 2.5127 - accuracy: 0.5084 - val_loss: 1.6829 - val_accuracy: 0.6170\n",
      "Epoch 2/9\n",
      "7982/7982 [==============================] - 2s 257us/sample - loss: 1.4080 - accuracy: 0.6939 - val_loss: 1.3237 - val_accuracy: 0.7040\n",
      "Epoch 3/9\n",
      "7982/7982 [==============================] - 2s 310us/sample - loss: 1.0624 - accuracy: 0.7732 - val_loss: 1.1567 - val_accuracy: 0.7580\n",
      "Epoch 4/9\n",
      "7982/7982 [==============================] - 2s 259us/sample - loss: 0.8402 - accuracy: 0.8197 - val_loss: 1.0604 - val_accuracy: 0.7860\n",
      "Epoch 5/9\n",
      "7982/7982 [==============================] - 2s 249us/sample - loss: 0.6695 - accuracy: 0.8559 - val_loss: 0.9929 - val_accuracy: 0.7890\n",
      "Epoch 6/9\n",
      "7982/7982 [==============================] - 2s 249us/sample - loss: 0.5345 - accuracy: 0.8856 - val_loss: 0.9639 - val_accuracy: 0.7860\n",
      "Epoch 7/9\n",
      "7982/7982 [==============================] - 2s 282us/sample - loss: 0.4291 - accuracy: 0.9095 - val_loss: 0.9259 - val_accuracy: 0.8110\n",
      "Epoch 8/9\n",
      "7982/7982 [==============================] - 2s 255us/sample - loss: 0.3477 - accuracy: 0.9278 - val_loss: 0.9327 - val_accuracy: 0.8060\n",
      "Epoch 9/9\n",
      "7982/7982 [==============================] - 2s 250us/sample - loss: 0.2880 - accuracy: 0.9381 - val_loss: 0.9505 - val_accuracy: 0.8010\n"
     ]
    },
    {
     "data": {
      "text/plain": [
       "<tensorflow.python.keras.callbacks.History at 0x671561790>"
      ]
     },
     "execution_count": 18,
     "metadata": {},
     "output_type": "execute_result"
    }
   ],
   "source": [
    "model = keras.Sequential([\n",
    "    keras.layers.Dense(64, activation = 'relu'),\n",
    "    keras.layers.Dense(64, activation = 'relu'),\n",
    "    keras.layers.Dense(46, activation = 'softmax'),\n",
    "])\n",
    "\n",
    "model.compile(optimizer = 'rmsprop',\n",
    "              loss = 'categorical_crossentropy',\n",
    "              metrics = ['accuracy']\n",
    ")\n",
    "\n",
    "model.fit(\n",
    "    partial_x_train,\n",
    "    partial_y_train,\n",
    "    epochs = 9,\n",
    "    batch_size = 512,\n",
    "    validation_data = (x_val, y_val)\n",
    ")"
   ]
  },
  {
   "cell_type": "code",
   "execution_count": 19,
   "metadata": {},
   "outputs": [
    {
     "name": "stdout",
     "output_type": "stream",
     "text": [
      "[1.0171286575728404, 0.7747106]\n"
     ]
    }
   ],
   "source": [
    "print(model.evaluate(x_test, one_hot_test_lable, verbose = 0))"
   ]
  },
  {
   "cell_type": "markdown",
   "metadata": {},
   "source": [
    "### To ensure that the output of the model is good, we consider the performance of a random classifier"
   ]
  },
  {
   "cell_type": "code",
   "execution_count": 20,
   "metadata": {},
   "outputs": [
    {
     "name": "stdout",
     "output_type": "stream",
     "text": [
      "random match ratio: 0.184\n"
     ]
    }
   ],
   "source": [
    "import copy\n",
    "test_label_copy = copy.copy(test_label)\n",
    "np.random.shuffle(test_label_copy)\n",
    "match = np.sum(test_label_copy == test_label)\n",
    "print(\"random match ratio: {:.3f}\".format(match/len(test_label)))"
   ]
  },
  {
   "cell_type": "code",
   "execution_count": 21,
   "metadata": {},
   "outputs": [
    {
     "name": "stdout",
     "output_type": "stream",
     "text": [
      "(2246, 46)\n"
     ]
    }
   ],
   "source": [
    "predictions = model.predict(x_test)\n",
    "print(predictions.shape)"
   ]
  },
  {
   "cell_type": "code",
   "execution_count": 22,
   "metadata": {},
   "outputs": [
    {
     "name": "stdout",
     "output_type": "stream",
     "text": [
      "[ 3 10  1  4 13  3  3  3  3  3]\n"
     ]
    }
   ],
   "source": [
    "prediction_labels = np.argmax(predictions, axis = 1)\n",
    "print(prediction_labels[:10])"
   ]
  }
 ],
 "metadata": {
  "kernelspec": {
   "display_name": "Python 3",
   "language": "python",
   "name": "python3"
  },
  "language_info": {
   "codemirror_mode": {
    "name": "ipython",
    "version": 3
   },
   "file_extension": ".py",
   "mimetype": "text/x-python",
   "name": "python",
   "nbconvert_exporter": "python",
   "pygments_lexer": "ipython3",
   "version": "3.7.5"
  }
 },
 "nbformat": 4,
 "nbformat_minor": 4
}
